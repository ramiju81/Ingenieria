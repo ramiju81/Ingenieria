{
  "cells": [
    {
      "cell_type": "code",
      "execution_count": 18,
      "metadata": {
        "colab": {
          "base_uri": "https://localhost:8080/"
        },
        "id": "1DTNNTAzzZ2k",
        "outputId": "d2df2076-db67-4b18-81c1-bd1f45447833"
      },
      "outputs": [
        {
          "name": "stdout",
          "output_type": "stream",
          "text": [
            "    *\n",
            "   ****\n",
            "  ******\n",
            " ********\n",
            "**********\n",
            " ********\n",
            "  ******\n",
            "   ****\n",
            "    *\n"
          ]
        }
      ],
      "source": [
        "def figura_rombo():\n",
        "    niveles = [1, 4, 6, 8, 10, 8, 6, 4, 1]\n",
        "    for nivel in niveles:\n",
        "        print(\" \" * ((10 - nivel) // 2) + \"*\" * nivel)\n",
        "\n",
        "figura_rombo()"
      ]
    },
    {
      "cell_type": "code",
      "execution_count": 20,
      "metadata": {
        "colab": {
          "base_uri": "https://localhost:8080/"
        },
        "id": "0lMuc9qWzkM1",
        "outputId": "92786928-defe-49b2-ac74-576dbf4e57bd"
      },
      "outputs": [
        {
          "name": "stdout",
          "output_type": "stream",
          "text": [
            "       *\n",
            "      ***\n",
            "     *****\n",
            "    *******\n",
            "   *********\n",
            "  ***********\n",
            " *************\n",
            "***************\n"
          ]
        }
      ],
      "source": [
        "def figura_triangulo():\n",
        "    niveles = [1, 3, 5, 7, 9, 11, 13, 15]\n",
        "    for nivel in niveles:\n",
        "        print(\" \" * ((15 - nivel) // 2) + \"*\" * nivel)\n",
        "\n",
        "figura_triangulo()\n"
      ]
    },
    {
      "cell_type": "code",
      "execution_count": 21,
      "metadata": {},
      "outputs": [
        {
          "name": "stdout",
          "output_type": "stream",
          "text": [
            "Requirement already satisfied: requests in c:\\users\\julir\\appdata\\local\\programs\\python\\python313\\lib\\site-packages (2.32.3)\n",
            "Requirement already satisfied: charset-normalizer<4,>=2 in c:\\users\\julir\\appdata\\local\\programs\\python\\python313\\lib\\site-packages (from requests) (3.4.1)\n",
            "Requirement already satisfied: idna<4,>=2.5 in c:\\users\\julir\\appdata\\local\\programs\\python\\python313\\lib\\site-packages (from requests) (3.10)\n",
            "Requirement already satisfied: urllib3<3,>=1.21.1 in c:\\users\\julir\\appdata\\local\\programs\\python\\python313\\lib\\site-packages (from requests) (2.3.0)\n",
            "Requirement already satisfied: certifi>=2017.4.17 in c:\\users\\julir\\appdata\\local\\programs\\python\\python313\\lib\\site-packages (from requests) (2025.1.31)\n"
          ]
        },
        {
          "name": "stderr",
          "output_type": "stream",
          "text": [
            "\n",
            "[notice] A new release of pip is available: 24.3.1 -> 25.0.1\n",
            "[notice] To update, run: python.exe -m pip install --upgrade pip\n"
          ]
        }
      ],
      "source": [
        "!pip install requests"
      ]
    },
    {
      "cell_type": "code",
      "execution_count": 22,
      "metadata": {},
      "outputs": [
        {
          "name": "stdout",
          "output_type": "stream",
          "text": [
            "\n",
            "📍Latitud: 4.7110\n",
            "📍Longitud: -74.0721\n",
            "\n",
            "🌍 \u001b[1;32mCiudad:\u001b[0m Bogotá\n",
            "🌡️ \u001b[1;31mTemperatura actual:\u001b[0m 13.4°C\n",
            "💨 \u001b[1;34mVelocidad del viento:\u001b[0m 5.0 km/h\n",
            "☁️ \u001b[1;36mCondición climática:\u001b[0m Aguacero ligero\n",
            "\n",
            "📅 \u001b[1;35mPronóstico de temperatura por hora:\u001b[0m\n",
            "Hora 1: 13.4°C\n",
            "Hora 2: 13.3°C\n",
            "Hora 3: 13.0°C\n",
            "Hora 4: 12.9°C\n",
            "Hora 5: 12.5°C\n",
            "Hora 6: 12.3°C\n"
          ]
        }
      ],
      "source": [
        "import requests\n",
        "\n",
        "def obtener_ciudad(latitud, longitud):\n",
        "    \"\"\"Obtiene el nombre de la ciudad usando OpenStreetMap (Nominatim).\"\"\"\n",
        "    url = f\"https://nominatim.openstreetmap.org/reverse?lat={latitud}&lon={longitud}&format=json\"\n",
        "    try:\n",
        "        response = requests.get(url, headers={'User-Agent': 'Mozilla/5.0'}, timeout=5)\n",
        "        response.raise_for_status()  # Lanza un error si la respuesta no es exitosa\n",
        "        data = response.json()\n",
        "        ciudad = data.get(\"address\", {}).get(\"city\") or data.get(\"address\", {}).get(\"town\") or \\\n",
        "                 data.get(\"address\", {}).get(\"village\") or \"Ciudad Desconocida\"\n",
        "        return ciudad\n",
        "    except requests.exceptions.RequestException as e:\n",
        "        print(\"❌ Error al obtener la ciudad:\", e)\n",
        "        return \"Ciudad Desconocida\"\n",
        "\n",
        "def obtener_clima(latitud, longitud):\n",
        "    \"\"\"Obtiene los datos del clima usando Open-Meteo.\"\"\"\n",
        "    url = f\"https://api.open-meteo.com/v1/forecast?latitude={latitud}&longitude={longitud}&current_weather=true&hourly=temperature_2m\"\n",
        "    try:\n",
        "        response = requests.get(url, timeout=5)\n",
        "        response.raise_for_status()\n",
        "        return response.json()\n",
        "    except requests.exceptions.RequestException as e:\n",
        "        print(\"❌ Error al obtener los datos del clima:\", e)\n",
        "        return None\n",
        "\n",
        "# Solicitar latitud y longitud al usuario\n",
        "latitud = input(\"\\033[1;35mIngrese la latitud:\\033[0m \")\n",
        "longitud = input(\"\\033[1;35mIngrese la longitud:\\033[0m \")\n",
        "\n",
        "# Obtener ciudad\n",
        "ciudad = obtener_ciudad(latitud, longitud)\n",
        "\n",
        "# Obtener clima\n",
        "clima_data = obtener_clima(latitud, longitud)\n",
        "\n",
        "if clima_data:\n",
        "    temperatura = clima_data[\"current_weather\"][\"temperature\"]\n",
        "    velocidad_viento = clima_data[\"current_weather\"][\"windspeed\"]\n",
        "    condicion = clima_data[\"current_weather\"][\"weathercode\"]\n",
        "    temperaturas_horarias = clima_data[\"hourly\"][\"temperature_2m\"][:6]  # Primeras 6 horas\n",
        "\n",
        "    condiciones_climaticas = {\n",
        "        0: \"Despejado\", 1: \"Mayormente despejado\", 2: \"Parcialmente nublado\",\n",
        "        3: \"Nublado\", 45: \"Niebla\", 48: \"Niebla con escarcha\",\n",
        "        51: \"Llovizna ligera\", 53: \"Llovizna moderada\", 55: \"Llovizna densa\",\n",
        "        61: \"Lluvia ligera\", 63: \"Lluvia moderada\", 65: \"Lluvia intensa\",\n",
        "        71: \"Nieve ligera\", 73: \"Nieve moderada\", 75: \"Nieve intensa\",\n",
        "        80: \"Aguacero ligero\", 81: \"Aguacero moderado\", 82: \"Aguacero intenso\"\n",
        "    }\n",
        "\n",
        "    condicion_texto = condiciones_climaticas.get(condicion, \"Desconocida\")\n",
        "    print(f\"\\n📍Latitud: {latitud}\")\n",
        "    print(f\"📍Longitud: {longitud}\")\n",
        "    print(f\"\\n🌍 \\033[1;32mCiudad:\\033[0m {ciudad}\")  \n",
        "    print(f\"🌡️ \\033[1;31mTemperatura actual:\\033[0m {temperatura}°C\")  \n",
        "    print(f\"💨 \\033[1;34mVelocidad del viento:\\033[0m {velocidad_viento} km/h\")  \n",
        "    print(f\"☁️ \\033[1;36mCondición climática:\\033[0m {condicion_texto}\")  \n",
        "\n",
        "    print(\"\\n📅 \\033[1;35mPronóstico de temperatura por hora:\\033[0m\")\n",
        "    for i, temp in enumerate(temperaturas_horarias, start=1):\n",
        "        print(f\"Hora {i}: {temp}°C\")\n",
        "\n",
        "else:\n",
        "    print(\"❌ No se pudo obtener la información del clima.\")"
      ]
    },
    {
      "cell_type": "code",
      "execution_count": 23,
      "metadata": {},
      "outputs": [
        {
          "name": "stdout",
          "output_type": "stream",
          "text": [
            "{\n",
            "    \"ubicacion\": {\n",
            "        \"ciudad\": \"Bogotá\",\n",
            "        \"latitud\": \"4.7110\",\n",
            "        \"longitud\": \"-74.0721\"\n",
            "    },\n",
            "    \"clima_actual\": {\n",
            "        \"temperatura\": 13.4,\n",
            "        \"velocidad_viento\": 5.0,\n",
            "        \"condicion_climatica\": \"Aguacero ligero\"\n",
            "    },\n",
            "    \"pronostico_horas\": {\n",
            "        \"Hora 1\": 13.4,\n",
            "        \"Hora 2\": 13.3,\n",
            "        \"Hora 3\": 13.0,\n",
            "        \"Hora 4\": 12.9,\n",
            "        \"Hora 5\": 12.5,\n",
            "        \"Hora 6\": 12.3\n",
            "    }\n",
            "}\n"
          ]
        }
      ],
      "source": [
        "# Diccionario para almacenar la información del clima\n",
        "clima_info = {\n",
        "    \"ubicacion\": {\n",
        "        \"ciudad\": ciudad,\n",
        "        \"latitud\": latitud,\n",
        "        \"longitud\": longitud\n",
        "    },\n",
        "    \"clima_actual\": {\n",
        "        \"temperatura\": temperatura,\n",
        "        \"velocidad_viento\": velocidad_viento,\n",
        "        \"condicion_climatica\": condicion_texto\n",
        "    },\n",
        "    \"pronostico_horas\": {}\n",
        "}\n",
        "\n",
        "# Agregar el pronóstico de temperatura para las próximas 6 horas\n",
        "for i in range(6):\n",
        "    clima_info[\"pronostico_horas\"][f\"Hora {i+1}\"] = clima_data[\"hourly\"][\"temperature_2m\"][i]\n",
        "\n",
        "# Imprimir el diccionario de manera ordenada\n",
        "import json\n",
        "print(json.dumps(clima_info, indent=4, ensure_ascii=False))\n"
      ]
    }
  ],
  "metadata": {
    "colab": {
      "provenance": []
    },
    "kernelspec": {
      "display_name": "Python 3",
      "name": "python3"
    },
    "language_info": {
      "codemirror_mode": {
        "name": "ipython",
        "version": 3
      },
      "file_extension": ".py",
      "mimetype": "text/x-python",
      "name": "python",
      "nbconvert_exporter": "python",
      "pygments_lexer": "ipython3",
      "version": "3.13.2"
    }
  },
  "nbformat": 4,
  "nbformat_minor": 0
}
